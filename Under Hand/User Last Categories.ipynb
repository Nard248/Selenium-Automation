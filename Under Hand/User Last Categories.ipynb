{
 "cells": [
  {
   "cell_type": "code",
   "execution_count": 1,
   "metadata": {
    "collapsed": true
   },
   "outputs": [],
   "source": [
    "import pandas as pd\n",
    "import os\n",
    "import numpy as np"
   ]
  },
  {
   "cell_type": "code",
   "execution_count": 4,
   "outputs": [
    {
     "name": "stderr",
     "output_type": "stream",
     "text": [
      "C:\\Users\\narek.meloyan\\AppData\\Local\\Temp\\ipykernel_22256\\272559664.py:11: FutureWarning: The frame.append method is deprecated and will be removed from pandas in a future version. Use pandas.concat instead.\n",
      "  all_data = all_data.append(df, ignore_index=True)\n",
      "C:\\Users\\narek.meloyan\\AppData\\Local\\Temp\\ipykernel_22256\\272559664.py:11: FutureWarning: The frame.append method is deprecated and will be removed from pandas in a future version. Use pandas.concat instead.\n",
      "  all_data = all_data.append(df, ignore_index=True)\n",
      "C:\\Users\\narek.meloyan\\AppData\\Local\\Temp\\ipykernel_22256\\272559664.py:11: FutureWarning: The frame.append method is deprecated and will be removed from pandas in a future version. Use pandas.concat instead.\n",
      "  all_data = all_data.append(df, ignore_index=True)\n",
      "C:\\Users\\narek.meloyan\\AppData\\Local\\Temp\\ipykernel_22256\\272559664.py:11: FutureWarning: The frame.append method is deprecated and will be removed from pandas in a future version. Use pandas.concat instead.\n",
      "  all_data = all_data.append(df, ignore_index=True)\n",
      "C:\\Users\\narek.meloyan\\AppData\\Local\\Temp\\ipykernel_22256\\272559664.py:11: FutureWarning: The frame.append method is deprecated and will be removed from pandas in a future version. Use pandas.concat instead.\n",
      "  all_data = all_data.append(df, ignore_index=True)\n",
      "C:\\Users\\narek.meloyan\\AppData\\Local\\Temp\\ipykernel_22256\\272559664.py:11: FutureWarning: The frame.append method is deprecated and will be removed from pandas in a future version. Use pandas.concat instead.\n",
      "  all_data = all_data.append(df, ignore_index=True)\n",
      "C:\\Users\\narek.meloyan\\AppData\\Local\\Temp\\ipykernel_22256\\272559664.py:11: FutureWarning: The frame.append method is deprecated and will be removed from pandas in a future version. Use pandas.concat instead.\n",
      "  all_data = all_data.append(df, ignore_index=True)\n",
      "C:\\Users\\narek.meloyan\\AppData\\Local\\Temp\\ipykernel_22256\\272559664.py:11: FutureWarning: The frame.append method is deprecated and will be removed from pandas in a future version. Use pandas.concat instead.\n",
      "  all_data = all_data.append(df, ignore_index=True)\n",
      "C:\\Users\\narek.meloyan\\AppData\\Local\\Temp\\ipykernel_22256\\272559664.py:11: FutureWarning: The frame.append method is deprecated and will be removed from pandas in a future version. Use pandas.concat instead.\n",
      "  all_data = all_data.append(df, ignore_index=True)\n",
      "C:\\Users\\narek.meloyan\\AppData\\Local\\Temp\\ipykernel_22256\\272559664.py:11: FutureWarning: The frame.append method is deprecated and will be removed from pandas in a future version. Use pandas.concat instead.\n",
      "  all_data = all_data.append(df, ignore_index=True)\n",
      "C:\\Users\\narek.meloyan\\AppData\\Local\\Temp\\ipykernel_22256\\272559664.py:11: FutureWarning: The frame.append method is deprecated and will be removed from pandas in a future version. Use pandas.concat instead.\n",
      "  all_data = all_data.append(df, ignore_index=True)\n"
     ]
    },
    {
     "name": "stdout",
     "output_type": "stream",
     "text": [
      "         PartnerUserId  Category      Month\n",
      "0          100377550.0       Low 2022-04-01\n",
      "1          100377551.0       Low 2022-04-01\n",
      "2          100377552.0       Low 2022-04-01\n",
      "3          100377553.0       Low 2022-04-01\n",
      "4          100377555.0       Low 2022-04-01\n",
      "...                ...       ...        ...\n",
      "2323796    101237470.0  FreeRoll 2022-09-01\n",
      "2323797    101237471.0       Low 2022-09-01\n",
      "2323798    101237472.0       Low 2022-09-01\n",
      "2323799    101237475.0       Low 2022-09-01\n",
      "2323800    101237481.0       Low 2022-09-01\n",
      "\n",
      "[2323801 rows x 3 columns]\n"
     ]
    },
    {
     "name": "stderr",
     "output_type": "stream",
     "text": [
      "C:\\Users\\narek.meloyan\\AppData\\Local\\Temp\\ipykernel_22256\\272559664.py:11: FutureWarning: The frame.append method is deprecated and will be removed from pandas in a future version. Use pandas.concat instead.\n",
      "  all_data = all_data.append(df, ignore_index=True)\n"
     ]
    }
   ],
   "source": [
    "folder_path = \"D:\\\\2022\"\n",
    "\n",
    "# initialize an empty dataframe to store all data\n",
    "all_data = pd.DataFrame()\n",
    "\n",
    "# loop through all Excel files in the folder and append them to the dataframe\n",
    "for file_name in os.listdir(folder_path):\n",
    "    if file_name.endswith(\".csv\"):\n",
    "        file_path = os.path.join(folder_path, file_name)\n",
    "        df = pd.read_csv(file_path, parse_dates=['Month'])\n",
    "        all_data = all_data.append(df, ignore_index=True)\n",
    "\n",
    "# print the final dataframe\n",
    "print(all_data)"
   ],
   "metadata": {
    "collapsed": false
   }
  },
  {
   "cell_type": "code",
   "execution_count": 16,
   "outputs": [],
   "source": [
    "df = all_data.copy()"
   ],
   "metadata": {
    "collapsed": false
   }
  },
  {
   "cell_type": "code",
   "execution_count": 17,
   "outputs": [],
   "source": [
    "df['Month'] = pd.to_datetime(df['Month'])"
   ],
   "metadata": {
    "collapsed": false
   }
  },
  {
   "cell_type": "code",
   "execution_count": 18,
   "outputs": [],
   "source": [
    "df = df.sort_values(['PartnerUserId', 'Month'])"
   ],
   "metadata": {
    "collapsed": false
   }
  },
  {
   "cell_type": "code",
   "execution_count": 19,
   "outputs": [],
   "source": [
    "df['rank'] = df.groupby('PartnerUserId')['Month'].rank(method='first', ascending=False)"
   ],
   "metadata": {
    "collapsed": false
   }
  },
  {
   "cell_type": "code",
   "execution_count": 20,
   "outputs": [],
   "source": [
    "df_new = df[df['rank'] == 1].drop('rank', axis=1)"
   ],
   "metadata": {
    "collapsed": false
   }
  },
  {
   "cell_type": "code",
   "execution_count": 29,
   "outputs": [
    {
     "data": {
      "text/plain": "         PartnerUserId  Category      Month\n72869      100964986.0  FreeRoll 2022-04-01\n260801     100964986.0  FreeRoll 2022-08-01\n666355     100964986.0  FreeRoll 2022-02-01\n846767     100964986.0  FreeRoll 2022-01-01\n1018193    100964986.0  FreeRoll 2022-07-01\n1211368    100964986.0  FreeRoll 2022-06-01\n1405517    100964986.0  FreeRoll 2022-03-01\n1785989    100964986.0  FreeRoll 2022-11-01\n1994761    100964986.0  FreeRoll 2022-10-01",
      "text/html": "<div>\n<style scoped>\n    .dataframe tbody tr th:only-of-type {\n        vertical-align: middle;\n    }\n\n    .dataframe tbody tr th {\n        vertical-align: top;\n    }\n\n    .dataframe thead th {\n        text-align: right;\n    }\n</style>\n<table border=\"1\" class=\"dataframe\">\n  <thead>\n    <tr style=\"text-align: right;\">\n      <th></th>\n      <th>PartnerUserId</th>\n      <th>Category</th>\n      <th>Month</th>\n    </tr>\n  </thead>\n  <tbody>\n    <tr>\n      <th>72869</th>\n      <td>100964986.0</td>\n      <td>FreeRoll</td>\n      <td>2022-04-01</td>\n    </tr>\n    <tr>\n      <th>260801</th>\n      <td>100964986.0</td>\n      <td>FreeRoll</td>\n      <td>2022-08-01</td>\n    </tr>\n    <tr>\n      <th>666355</th>\n      <td>100964986.0</td>\n      <td>FreeRoll</td>\n      <td>2022-02-01</td>\n    </tr>\n    <tr>\n      <th>846767</th>\n      <td>100964986.0</td>\n      <td>FreeRoll</td>\n      <td>2022-01-01</td>\n    </tr>\n    <tr>\n      <th>1018193</th>\n      <td>100964986.0</td>\n      <td>FreeRoll</td>\n      <td>2022-07-01</td>\n    </tr>\n    <tr>\n      <th>1211368</th>\n      <td>100964986.0</td>\n      <td>FreeRoll</td>\n      <td>2022-06-01</td>\n    </tr>\n    <tr>\n      <th>1405517</th>\n      <td>100964986.0</td>\n      <td>FreeRoll</td>\n      <td>2022-03-01</td>\n    </tr>\n    <tr>\n      <th>1785989</th>\n      <td>100964986.0</td>\n      <td>FreeRoll</td>\n      <td>2022-11-01</td>\n    </tr>\n    <tr>\n      <th>1994761</th>\n      <td>100964986.0</td>\n      <td>FreeRoll</td>\n      <td>2022-10-01</td>\n    </tr>\n  </tbody>\n</table>\n</div>"
     },
     "execution_count": 29,
     "metadata": {},
     "output_type": "execute_result"
    }
   ],
   "source": [
    "all_data[all_data['PartnerUserId'] ==100964986]"
   ],
   "metadata": {
    "collapsed": false
   }
  },
  {
   "cell_type": "code",
   "execution_count": 22,
   "outputs": [],
   "source": [
    "df_new.to_excel('Categores 2022.xlsx')"
   ],
   "metadata": {
    "collapsed": false
   }
  },
  {
   "cell_type": "code",
   "execution_count": null,
   "outputs": [],
   "source": [],
   "metadata": {
    "collapsed": false
   }
  }
 ],
 "metadata": {
  "kernelspec": {
   "display_name": "Python 3",
   "language": "python",
   "name": "python3"
  },
  "language_info": {
   "codemirror_mode": {
    "name": "ipython",
    "version": 2
   },
   "file_extension": ".py",
   "mimetype": "text/x-python",
   "name": "python",
   "nbconvert_exporter": "python",
   "pygments_lexer": "ipython2",
   "version": "2.7.6"
  }
 },
 "nbformat": 4,
 "nbformat_minor": 0
}
