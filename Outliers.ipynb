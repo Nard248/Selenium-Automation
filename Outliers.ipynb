{
 "cells": [
  {
   "cell_type": "code",
   "execution_count": 1,
   "metadata": {
    "collapsed": true
   },
   "outputs": [
    {
     "name": "stdout",
     "output_type": "stream",
     "text": [
      "       CasinoID  Dep_amount_1  Bet_amount_1  Bonus_amount_1  Adj_bonus_1  \\\n",
      "0     101255989           0.0           0.0             0.0            0   \n",
      "1     101255992           0.0           0.0             0.0            0   \n",
      "2     101255993           0.0           0.0             0.0            0   \n",
      "3     101255999           0.0           0.0             0.0            0   \n",
      "4     101256000           0.0           0.0             0.0            0   \n",
      "...         ...           ...           ...             ...          ...   \n",
      "1627  101255980           0.0           0.0             0.0            0   \n",
      "1628  101255982           0.0           0.0             0.0            0   \n",
      "1629  101255984           0.0           0.0             0.0            0   \n",
      "1630     194043           0.0           0.0             0.0            0   \n",
      "1631     136395           0.0           0.0             0.0            0   \n",
      "\n",
      "      Dep_amount_3  Bet_amount_3  Bonus_amount_3  Adj_bonus_3  Dep_amount_5  \\\n",
      "0              0.0           0.0             0.0            0           0.0   \n",
      "1              0.0           0.0             0.0            0           0.0   \n",
      "2              0.0           0.0             0.0            0           0.0   \n",
      "3              0.0           0.0             0.0            0           0.0   \n",
      "4              0.0           0.0             0.0            0           0.0   \n",
      "...            ...           ...             ...          ...           ...   \n",
      "1627           0.0           0.0             0.0            0           0.0   \n",
      "1628           0.0           0.0             0.0            0           0.0   \n",
      "1629           0.0           0.0             0.0            0           0.0   \n",
      "1630           0.0           0.0             0.0            0           0.0   \n",
      "1631           0.0           0.0             0.0            0           0.0   \n",
      "\n",
      "      Bet_amount_5  Bonus_amount_5  Adj_bonus_5  Total Start Date   End Date  \\\n",
      "0              0.0             0.0            0      0 2023-02-03 2023-02-08   \n",
      "1              0.0             0.0            0      0 2023-02-03 2023-02-08   \n",
      "2              0.0             0.0            0      0 2023-02-03 2023-02-08   \n",
      "3              0.0             0.0            0      0 2023-02-03 2023-02-08   \n",
      "4              0.0             0.0            0      0 2023-02-03 2023-02-08   \n",
      "...            ...             ...          ...    ...        ...        ...   \n",
      "1627           0.0             0.0            0      0 2023-01-25 2023-01-30   \n",
      "1628           0.0             0.0            0      0 2023-01-25 2023-01-30   \n",
      "1629           0.0             0.0            0      0 2023-01-25 2023-01-30   \n",
      "1630           0.0             0.0            0      0 2023-01-25 2023-01-30   \n",
      "1631           0.0             0.0            0      0 2023-01-25 2023-01-30   \n",
      "\n",
      "      Dep_amount_6  Bet_amount_6  Bonus_amount_6  Adj_bonus_6  \n",
      "0                0             0               0            0  \n",
      "1                0             0               0            0  \n",
      "2                0             0               0            0  \n",
      "3                0             0               0            0  \n",
      "4                0             0               0            0  \n",
      "...            ...           ...             ...          ...  \n",
      "1627             0             0               0            0  \n",
      "1628             0             0               0            0  \n",
      "1629             0             0               0            0  \n",
      "1630             0             0               0            0  \n",
      "1631             0             0               0            0  \n",
      "\n",
      "[1632 rows x 20 columns]\n"
     ]
    }
   ],
   "source": [
    "import pandas as pd\n",
    "import os\n",
    "\n",
    "# specify the folder path where your Excel files are located\n",
    "folder_path = \"Z:\\Analytics\\Ani's Flow Analysis\\\\1st Step Lists\"\n",
    "\n",
    "# create an empty list to store the dataframes\n",
    "dataframes = []\n",
    "\n",
    "# loop through all the files in the folder\n",
    "for filename in os.listdir(folder_path):\n",
    "    # check if the file is an Excel file\n",
    "    if filename.endswith('.xlsx'):\n",
    "        # read the Excel file into a dataframe\n",
    "        file_path = os.path.join(folder_path, filename)\n",
    "        df = pd.read_excel(file_path)\n",
    "        # add the dataframe to the list\n",
    "        dataframes.append(df)\n",
    "\n",
    "# concatenate all the dataframes into one dataframe\n",
    "result = pd.concat(dataframes, axis=0, ignore_index=True)\n",
    "print(result)"
   ]
  },
  {
   "cell_type": "code",
   "execution_count": 2,
   "outputs": [],
   "source": [
    "users = result['CasinoID']"
   ],
   "metadata": {
    "collapsed": false
   }
  },
  {
   "cell_type": "code",
   "execution_count": 3,
   "outputs": [],
   "source": [
    "import pyodbc\n",
    "\n",
    "cnx = pyodbc.connect(\n",
    "    \"Driver={ODBC Driver 17 for SQL Server};\"\n",
    "    \"Server=DWH;\"\n",
    "    \"Database=dwOper;\"\n",
    "    \"Trusted_Connection=yes;\")\n",
    "\n",
    "query = \"\"\"\n",
    "SELECT u.Base_UserID                                  AS CasinoID,\n",
    "       SUM(p.Amount)                                  AS Amount\n",
    "FROM Payment AS p\n",
    "INNER JOIN VIEW_PlatformPartnerUsers_TotogamingAm AS u ON u.UserID = p.UserID\n",
    "WHERE p.PaymentTypeID = 2\n",
    "    AND p.PaymentStatusID = 8\n",
    "    AND CAST(DATEADD(hour, -4, p.modify_date) AS DATE) >= '2023-01-01'\n",
    "    AND CAST(DATEADD(hour, -4, p.modify_date) AS DATE) < CAST(GETDATE() AS DATE)\n",
    "    AND u.PartnerID IN (237)\n",
    "    AND p.SourceID = 2\n",
    "GROUP BY u.Base_UserID\n",
    "\"\"\""
   ],
   "metadata": {
    "collapsed": false
   }
  },
  {
   "cell_type": "code",
   "execution_count": 4,
   "outputs": [
    {
     "name": "stderr",
     "output_type": "stream",
     "text": [
      "C:\\Users\\narek.meloyan\\AppData\\Local\\Temp\\ipykernel_38608\\2081995878.py:1: UserWarning: pandas only supports SQLAlchemy connectable (engine/connection) or database string URI or sqlite3 DBAPI2 connection. Other DBAPI2 objects are not tested. Please consider using SQLAlchemy.\n",
      "  deposit_data = pd.read_sql(query, cnx)\n"
     ]
    }
   ],
   "source": [
    "deposit_data = pd.read_sql(query, cnx)\n",
    "cnx.close()"
   ],
   "metadata": {
    "collapsed": false
   }
  },
  {
   "cell_type": "code",
   "execution_count": 5,
   "outputs": [
    {
     "data": {
      "text/plain": "   CasinoID     Amount\n0    820781     8500.0\n1    287546    28600.0\n2    180449  1164620.0\n3    707666  1132140.0\n4    991202    16000.0",
      "text/html": "<div>\n<style scoped>\n    .dataframe tbody tr th:only-of-type {\n        vertical-align: middle;\n    }\n\n    .dataframe tbody tr th {\n        vertical-align: top;\n    }\n\n    .dataframe thead th {\n        text-align: right;\n    }\n</style>\n<table border=\"1\" class=\"dataframe\">\n  <thead>\n    <tr style=\"text-align: right;\">\n      <th></th>\n      <th>CasinoID</th>\n      <th>Amount</th>\n    </tr>\n  </thead>\n  <tbody>\n    <tr>\n      <th>0</th>\n      <td>820781</td>\n      <td>8500.0</td>\n    </tr>\n    <tr>\n      <th>1</th>\n      <td>287546</td>\n      <td>28600.0</td>\n    </tr>\n    <tr>\n      <th>2</th>\n      <td>180449</td>\n      <td>1164620.0</td>\n    </tr>\n    <tr>\n      <th>3</th>\n      <td>707666</td>\n      <td>1132140.0</td>\n    </tr>\n    <tr>\n      <th>4</th>\n      <td>991202</td>\n      <td>16000.0</td>\n    </tr>\n  </tbody>\n</table>\n</div>"
     },
     "execution_count": 5,
     "metadata": {},
     "output_type": "execute_result"
    }
   ],
   "source": [
    "deposit_data.head()"
   ],
   "metadata": {
    "collapsed": false
   }
  },
  {
   "cell_type": "code",
   "execution_count": 6,
   "outputs": [],
   "source": [
    "import numpy as np\n",
    "Q1 = deposit_data['Amount'].quantile(0.25)\n",
    "Q3 = deposit_data['Amount'].quantile(0.75)\n",
    "IQR = Q3 - Q1\n",
    "\n",
    "thresh = 1.5 * IQR\n",
    "\n",
    "deposit_data['Outlier'] = np.where((deposit_data['Amount'] < (Q1 - thresh)) | (deposit_data['Amount'] > (Q3 + thresh)), True, False)"
   ],
   "metadata": {
    "collapsed": false
   }
  },
  {
   "cell_type": "code",
   "execution_count": 7,
   "outputs": [
    {
     "data": {
      "text/plain": "       CasinoID     Amount  Outlier\n0        820781     8500.0    False\n1        287546    28600.0    False\n2        180449  1164620.0     True\n3        707666  1132140.0     True\n4        991202    16000.0    False\n...         ...        ...      ...\n99917    528589     1000.0    False\n99918    869524     1000.0    False\n99919    828363     1000.0    False\n99920   1026325     5000.0    False\n99921    754078     1200.0    False\n\n[99922 rows x 3 columns]",
      "text/html": "<div>\n<style scoped>\n    .dataframe tbody tr th:only-of-type {\n        vertical-align: middle;\n    }\n\n    .dataframe tbody tr th {\n        vertical-align: top;\n    }\n\n    .dataframe thead th {\n        text-align: right;\n    }\n</style>\n<table border=\"1\" class=\"dataframe\">\n  <thead>\n    <tr style=\"text-align: right;\">\n      <th></th>\n      <th>CasinoID</th>\n      <th>Amount</th>\n      <th>Outlier</th>\n    </tr>\n  </thead>\n  <tbody>\n    <tr>\n      <th>0</th>\n      <td>820781</td>\n      <td>8500.0</td>\n      <td>False</td>\n    </tr>\n    <tr>\n      <th>1</th>\n      <td>287546</td>\n      <td>28600.0</td>\n      <td>False</td>\n    </tr>\n    <tr>\n      <th>2</th>\n      <td>180449</td>\n      <td>1164620.0</td>\n      <td>True</td>\n    </tr>\n    <tr>\n      <th>3</th>\n      <td>707666</td>\n      <td>1132140.0</td>\n      <td>True</td>\n    </tr>\n    <tr>\n      <th>4</th>\n      <td>991202</td>\n      <td>16000.0</td>\n      <td>False</td>\n    </tr>\n    <tr>\n      <th>...</th>\n      <td>...</td>\n      <td>...</td>\n      <td>...</td>\n    </tr>\n    <tr>\n      <th>99917</th>\n      <td>528589</td>\n      <td>1000.0</td>\n      <td>False</td>\n    </tr>\n    <tr>\n      <th>99918</th>\n      <td>869524</td>\n      <td>1000.0</td>\n      <td>False</td>\n    </tr>\n    <tr>\n      <th>99919</th>\n      <td>828363</td>\n      <td>1000.0</td>\n      <td>False</td>\n    </tr>\n    <tr>\n      <th>99920</th>\n      <td>1026325</td>\n      <td>5000.0</td>\n      <td>False</td>\n    </tr>\n    <tr>\n      <th>99921</th>\n      <td>754078</td>\n      <td>1200.0</td>\n      <td>False</td>\n    </tr>\n  </tbody>\n</table>\n<p>99922 rows × 3 columns</p>\n</div>"
     },
     "execution_count": 7,
     "metadata": {},
     "output_type": "execute_result"
    }
   ],
   "source": [
    "deposit_data"
   ],
   "metadata": {
    "collapsed": false
   }
  },
  {
   "cell_type": "code",
   "execution_count": 9,
   "outputs": [],
   "source": [
    "users = users.to_frame().merge(deposit_data, on='CasinoID')"
   ],
   "metadata": {
    "collapsed": false
   }
  },
  {
   "cell_type": "code",
   "execution_count": 11,
   "outputs": [
    {
     "data": {
      "text/plain": "      CasinoID     Amount  Outlier\n42   101256685   646850.0     True\n129  101253507  2392020.0     True\n136  101253581  4328100.0     True\n178  101254123   303290.0     True\n191  101254242   623100.0     True\n192  101254253   357000.0     True\n233  101254509   280550.0     True\n247  101254613  1501000.0     True\n264  101254683   200000.0     True\n283  101254751   176000.0     True\n328  101255063   189158.0     True\n350  101255169   409605.0     True\n401  101255423   748900.0     True\n484  101255922   200000.0     True",
      "text/html": "<div>\n<style scoped>\n    .dataframe tbody tr th:only-of-type {\n        vertical-align: middle;\n    }\n\n    .dataframe tbody tr th {\n        vertical-align: top;\n    }\n\n    .dataframe thead th {\n        text-align: right;\n    }\n</style>\n<table border=\"1\" class=\"dataframe\">\n  <thead>\n    <tr style=\"text-align: right;\">\n      <th></th>\n      <th>CasinoID</th>\n      <th>Amount</th>\n      <th>Outlier</th>\n    </tr>\n  </thead>\n  <tbody>\n    <tr>\n      <th>42</th>\n      <td>101256685</td>\n      <td>646850.0</td>\n      <td>True</td>\n    </tr>\n    <tr>\n      <th>129</th>\n      <td>101253507</td>\n      <td>2392020.0</td>\n      <td>True</td>\n    </tr>\n    <tr>\n      <th>136</th>\n      <td>101253581</td>\n      <td>4328100.0</td>\n      <td>True</td>\n    </tr>\n    <tr>\n      <th>178</th>\n      <td>101254123</td>\n      <td>303290.0</td>\n      <td>True</td>\n    </tr>\n    <tr>\n      <th>191</th>\n      <td>101254242</td>\n      <td>623100.0</td>\n      <td>True</td>\n    </tr>\n    <tr>\n      <th>192</th>\n      <td>101254253</td>\n      <td>357000.0</td>\n      <td>True</td>\n    </tr>\n    <tr>\n      <th>233</th>\n      <td>101254509</td>\n      <td>280550.0</td>\n      <td>True</td>\n    </tr>\n    <tr>\n      <th>247</th>\n      <td>101254613</td>\n      <td>1501000.0</td>\n      <td>True</td>\n    </tr>\n    <tr>\n      <th>264</th>\n      <td>101254683</td>\n      <td>200000.0</td>\n      <td>True</td>\n    </tr>\n    <tr>\n      <th>283</th>\n      <td>101254751</td>\n      <td>176000.0</td>\n      <td>True</td>\n    </tr>\n    <tr>\n      <th>328</th>\n      <td>101255063</td>\n      <td>189158.0</td>\n      <td>True</td>\n    </tr>\n    <tr>\n      <th>350</th>\n      <td>101255169</td>\n      <td>409605.0</td>\n      <td>True</td>\n    </tr>\n    <tr>\n      <th>401</th>\n      <td>101255423</td>\n      <td>748900.0</td>\n      <td>True</td>\n    </tr>\n    <tr>\n      <th>484</th>\n      <td>101255922</td>\n      <td>200000.0</td>\n      <td>True</td>\n    </tr>\n  </tbody>\n</table>\n</div>"
     },
     "execution_count": 11,
     "metadata": {},
     "output_type": "execute_result"
    }
   ],
   "source": [
    "users[users['Outlier'] == True]"
   ],
   "metadata": {
    "collapsed": false
   }
  },
  {
   "cell_type": "code",
   "execution_count": null,
   "outputs": [],
   "source": [],
   "metadata": {
    "collapsed": false
   }
  }
 ],
 "metadata": {
  "kernelspec": {
   "display_name": "Python 3",
   "language": "python",
   "name": "python3"
  },
  "language_info": {
   "codemirror_mode": {
    "name": "ipython",
    "version": 2
   },
   "file_extension": ".py",
   "mimetype": "text/x-python",
   "name": "python",
   "nbconvert_exporter": "python",
   "pygments_lexer": "ipython2",
   "version": "2.7.6"
  }
 },
 "nbformat": 4,
 "nbformat_minor": 0
}
