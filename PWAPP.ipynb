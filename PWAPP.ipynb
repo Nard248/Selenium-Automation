{
 "cells": [
  {
   "cell_type": "code",
   "execution_count": 5,
   "metadata": {
    "collapsed": true
   },
   "outputs": [],
   "source": [
    "import pandas as pd\n",
    "import numpy as np\n",
    "import pyodbc\n",
    "import matplotlib.pyplot as plt\n",
    "import os"
   ]
  },
  {
   "cell_type": "code",
   "execution_count": 2,
   "outputs": [],
   "source": [
    "cnx = pyodbc.connect(\n",
    "    \"Driver={ODBC Driver 17 for SQL Server};\"\n",
    "    \"Server=DWH;\"\n",
    "    \"Database=dwOper;\"\n",
    "    \"Trusted_Connection=yes;\")\n",
    "\n",
    "query = \"\"\"\n",
    "SELECT u.PartnerUserId                  AS TOTOID,\n",
    "       o.CalculationDate_DT             AS Date,\n",
    "       SUM(o.StakeAmount)               AS BetAmount,\n",
    "       COUNT(Distinct o.OrderID)        AS BetCount,\n",
    "       SUM(o.StakeAmount - o.WinAmount) AS GGR,\n",
    "       'Sport'                          AS Category,\n",
    "       d.DeviceTypeName                 AS DeviceType\n",
    "FROM VIEW_sport_OrdersBetsStakes_TotogamingAm o\n",
    "    INNER JOIN VIEW_sport_PartnerUser_TotogamingAm u ON o.UserID = u.UserID\n",
    "    INNER JOIN C_DeviceType d ON o.DeviceTypeID = d.DeviceTypeID\n",
    "WHERE o.OrderStateID NOT IN (1,4,7)\n",
    "  AND o.CalculationDate_DT >= '2023-01-01'\n",
    "  AND o.CalculationDate_DT <= CAST(GETDATE() AS DATE)\n",
    "  AND u.isDeleted <> 1\n",
    "  AND o.DeviceTypeID <> 1\n",
    "GROUP BY u.PartnerUserId, o.CalculationDate_DT, d.DeviceTypeName\n",
    "\n",
    "UNION ALL\n",
    "\n",
    "SELECT u.PartnerUserId AS TOTOID,\n",
    "       o.CalculationDate_DT AS Date,\n",
    "       SUM(CASE WHEN g.GameProviderID IN (48, 10) AND o.TypeId IN (1,5,8,18,33)\n",
    "           THEN o.OrderAmount\n",
    "           WHEN g.GameProviderID NOT IN (48, 10) THEN o.OrderAmount ELSE 0 END) AS BetAmount,\n",
    "       COUNT(o.OrderID) Bets,\n",
    "           SUM(CASE when g.GameProviderID in (48,10) and o.TypeId = 1 then o.OrderAmount*o.Odds/100\n",
    "               WHEN g.GameProviderID in (48,10) AND o.TypeId IN (5,8,18,33) THEN (o.OrderAmount - o.WinAmount)\n",
    "               WHEN g.GameProviderID NOT in (48,10) THEN (o.OrderAmount - o.WinAmount) ELSE 0 END) GGR,\n",
    "    'Casino'      AS Caregory,\n",
    "    d.DeviceTypeName AS DeviceType\n",
    "FROM casino.orders o\n",
    "    INNER JOIN VIEW_PlatformPartnerUsers_TotogamingAm u ON u.UserID = o.UserID\n",
    "    INNER JOIN C_Game g on o.GameID = g.GameID\n",
    "    INNER JOIN C_DeviceType d ON o.DeviceTypeID = d.DeviceTypeID\n",
    "WHERE o.CalculationDate_DT >= '2023-01-01'\n",
    "  AND o.CalculationDate_DT <= CAST(GETDATE() AS DATE)\n",
    "  AND o.GameProviderId <> 3\n",
    "  AND o.OperationTypeID IN (3, 299)\n",
    "  AND o.OrderStateID NOT IN (1, 4, 7)\n",
    "  AND IIF(g.GameProviderID IN (48, 10), o.TypeId, 0) IN (0, 1, 5, 8, 18, 33)\n",
    "group by u.PartnerUserId,\n",
    "         o.CalculationDate_DT,\n",
    "         d.DeviceTypeName\n",
    "\"\"\""
   ],
   "metadata": {
    "collapsed": false
   }
  },
  {
   "cell_type": "code",
   "execution_count": 3,
   "outputs": [
    {
     "name": "stderr",
     "output_type": "stream",
     "text": [
      "C:\\Users\\narek.meloyan\\AppData\\Local\\Temp\\ipykernel_1304\\3902282455.py:1: UserWarning: pandas only supports SQLAlchemy connectable (engine/connection) or database string URI or sqlite3 DBAPI2 connection. Other DBAPI2 objects are not tested. Please consider using SQLAlchemy.\n",
      "  bets = pd.read_sql(query, cnx)\n"
     ]
    }
   ],
   "source": [
    "bets = pd.read_sql(query, cnx)\n",
    "cnx.close()"
   ],
   "metadata": {
    "collapsed": false
   }
  },
  {
   "cell_type": "code",
   "execution_count": 4,
   "outputs": [
    {
     "data": {
      "text/plain": "      TOTOID        Date  BetAmount  BetCount     GGR Category   DeviceType\n0  100389758  2023-02-12     1100.0         2 -6817.0    Sport   Web Mobile\n1  100690085  2023-02-07    13200.0         5 -5500.0    Sport   Web Mobile\n2  100383653  2023-02-07      100.0         1   100.0    Sport   Web Mobile\n3  101147785  2023-02-07      100.0         1   100.0    Sport   Web Mobile\n4  101183223  2023-02-07    15000.0        44  1395.0    Sport  Web Desktop",
      "text/html": "<div>\n<style scoped>\n    .dataframe tbody tr th:only-of-type {\n        vertical-align: middle;\n    }\n\n    .dataframe tbody tr th {\n        vertical-align: top;\n    }\n\n    .dataframe thead th {\n        text-align: right;\n    }\n</style>\n<table border=\"1\" class=\"dataframe\">\n  <thead>\n    <tr style=\"text-align: right;\">\n      <th></th>\n      <th>TOTOID</th>\n      <th>Date</th>\n      <th>BetAmount</th>\n      <th>BetCount</th>\n      <th>GGR</th>\n      <th>Category</th>\n      <th>DeviceType</th>\n    </tr>\n  </thead>\n  <tbody>\n    <tr>\n      <th>0</th>\n      <td>100389758</td>\n      <td>2023-02-12</td>\n      <td>1100.0</td>\n      <td>2</td>\n      <td>-6817.0</td>\n      <td>Sport</td>\n      <td>Web Mobile</td>\n    </tr>\n    <tr>\n      <th>1</th>\n      <td>100690085</td>\n      <td>2023-02-07</td>\n      <td>13200.0</td>\n      <td>5</td>\n      <td>-5500.0</td>\n      <td>Sport</td>\n      <td>Web Mobile</td>\n    </tr>\n    <tr>\n      <th>2</th>\n      <td>100383653</td>\n      <td>2023-02-07</td>\n      <td>100.0</td>\n      <td>1</td>\n      <td>100.0</td>\n      <td>Sport</td>\n      <td>Web Mobile</td>\n    </tr>\n    <tr>\n      <th>3</th>\n      <td>101147785</td>\n      <td>2023-02-07</td>\n      <td>100.0</td>\n      <td>1</td>\n      <td>100.0</td>\n      <td>Sport</td>\n      <td>Web Mobile</td>\n    </tr>\n    <tr>\n      <th>4</th>\n      <td>101183223</td>\n      <td>2023-02-07</td>\n      <td>15000.0</td>\n      <td>44</td>\n      <td>1395.0</td>\n      <td>Sport</td>\n      <td>Web Desktop</td>\n    </tr>\n  </tbody>\n</table>\n</div>"
     },
     "execution_count": 4,
     "metadata": {},
     "output_type": "execute_result"
    }
   ],
   "source": [
    "bets.head()"
   ],
   "metadata": {
    "collapsed": false
   }
  },
  {
   "cell_type": "code",
   "execution_count": 22,
   "outputs": [
    {
     "name": "stdout",
     "output_type": "stream",
     "text": [
      "0       100377551\n",
      "1       100377620\n",
      "2       100377695\n",
      "3       100377720\n",
      "4       100377745\n",
      "          ...    \n",
      "9779    100394961\n",
      "9780    100394961\n",
      "9781    100394961\n",
      "9782    100394961\n",
      "9783    100377936\n",
      "Name: PartnerUserId, Length: 9784, dtype: int64\n"
     ]
    }
   ],
   "source": [
    "# specify the folder path where your Excel files are located\n",
    "folder_path = \"Z:\\Daily Personal Campaigns\\\\Users With No PWAPP - Artur B\\\\all target\"\n",
    "\n",
    "# create an empty list to store the dataframes\n",
    "dataframes = []\n",
    "\n",
    "# loop through all the files in the folder\n",
    "for filename in os.listdir(folder_path):\n",
    "    # check if the file is an Excel file\n",
    "    if filename.endswith('.xlsx') and \"Egt\" in filename:\n",
    "        # read the Excel file into a dataframe\n",
    "        file_path = os.path.join(folder_path, filename)\n",
    "        df = pd.read_excel(file_path)\n",
    "        df = df['PartnerUserId']\n",
    "        # add the dataframe to the list\n",
    "        dataframes.append(df)\n",
    "\n",
    "# concatenate all the dataframes into one dataframe\n",
    "users = pd.concat(dataframes, axis=0, ignore_index=True)\n",
    "print(users)"
   ],
   "metadata": {
    "collapsed": false
   }
  },
  {
   "cell_type": "code",
   "execution_count": 23,
   "outputs": [],
   "source": [
    "users = users.to_frame()\n",
    "users['PartnerUserId'] = pd.to_numeric(users['PartnerUserId'])\n",
    "bets['TOTOID'] = pd.to_numeric(bets['TOTOID'])\n",
    "frame = users.merge(bets, left_on='PartnerUserId', right_on='TOTOID').drop(columns=['TOTOID'])"
   ],
   "metadata": {
    "collapsed": false
   }
  },
  {
   "cell_type": "code",
   "execution_count": 25,
   "outputs": [
    {
     "data": {
      "text/plain": "        PartnerUserId        Date  BetAmount  BetCount     GGR Category  \\\n0           100377551  2023-02-05      550.0         1 -3329.0    Sport   \n1           100377551  2023-01-08      324.0         1   324.0    Sport   \n2           100377551  2023-02-06      972.0         2 -1868.0    Sport   \n3           100377551  2023-01-25      796.0         2   796.0    Sport   \n4           100377551  2023-02-12      790.0         3   790.0    Sport   \n...               ...         ...        ...       ...     ...      ...   \n266190      100715850  2023-01-09      190.0        34     0.0   Casino   \n266191      100715850  2023-01-29       30.0        18     0.0   Casino   \n266192      100715850  2023-01-30       82.0        28     0.0   Casino   \n266193      100715850  2023-01-14       40.0        14     0.0   Casino   \n266194      100715850  2023-01-16       90.0        24     0.0   Casino   \n\n         DeviceType  \n0       Web Desktop  \n1       Web Desktop  \n2       Web Desktop  \n3       Web Desktop  \n4       Web Desktop  \n...             ...  \n266190   Web Mobile  \n266191   Web Mobile  \n266192   Web Mobile  \n266193   Web Mobile  \n266194   Web Mobile  \n\n[266195 rows x 7 columns]",
      "text/html": "<div>\n<style scoped>\n    .dataframe tbody tr th:only-of-type {\n        vertical-align: middle;\n    }\n\n    .dataframe tbody tr th {\n        vertical-align: top;\n    }\n\n    .dataframe thead th {\n        text-align: right;\n    }\n</style>\n<table border=\"1\" class=\"dataframe\">\n  <thead>\n    <tr style=\"text-align: right;\">\n      <th></th>\n      <th>PartnerUserId</th>\n      <th>Date</th>\n      <th>BetAmount</th>\n      <th>BetCount</th>\n      <th>GGR</th>\n      <th>Category</th>\n      <th>DeviceType</th>\n    </tr>\n  </thead>\n  <tbody>\n    <tr>\n      <th>0</th>\n      <td>100377551</td>\n      <td>2023-02-05</td>\n      <td>550.0</td>\n      <td>1</td>\n      <td>-3329.0</td>\n      <td>Sport</td>\n      <td>Web Desktop</td>\n    </tr>\n    <tr>\n      <th>1</th>\n      <td>100377551</td>\n      <td>2023-01-08</td>\n      <td>324.0</td>\n      <td>1</td>\n      <td>324.0</td>\n      <td>Sport</td>\n      <td>Web Desktop</td>\n    </tr>\n    <tr>\n      <th>2</th>\n      <td>100377551</td>\n      <td>2023-02-06</td>\n      <td>972.0</td>\n      <td>2</td>\n      <td>-1868.0</td>\n      <td>Sport</td>\n      <td>Web Desktop</td>\n    </tr>\n    <tr>\n      <th>3</th>\n      <td>100377551</td>\n      <td>2023-01-25</td>\n      <td>796.0</td>\n      <td>2</td>\n      <td>796.0</td>\n      <td>Sport</td>\n      <td>Web Desktop</td>\n    </tr>\n    <tr>\n      <th>4</th>\n      <td>100377551</td>\n      <td>2023-02-12</td>\n      <td>790.0</td>\n      <td>3</td>\n      <td>790.0</td>\n      <td>Sport</td>\n      <td>Web Desktop</td>\n    </tr>\n    <tr>\n      <th>...</th>\n      <td>...</td>\n      <td>...</td>\n      <td>...</td>\n      <td>...</td>\n      <td>...</td>\n      <td>...</td>\n      <td>...</td>\n    </tr>\n    <tr>\n      <th>266190</th>\n      <td>100715850</td>\n      <td>2023-01-09</td>\n      <td>190.0</td>\n      <td>34</td>\n      <td>0.0</td>\n      <td>Casino</td>\n      <td>Web Mobile</td>\n    </tr>\n    <tr>\n      <th>266191</th>\n      <td>100715850</td>\n      <td>2023-01-29</td>\n      <td>30.0</td>\n      <td>18</td>\n      <td>0.0</td>\n      <td>Casino</td>\n      <td>Web Mobile</td>\n    </tr>\n    <tr>\n      <th>266192</th>\n      <td>100715850</td>\n      <td>2023-01-30</td>\n      <td>82.0</td>\n      <td>28</td>\n      <td>0.0</td>\n      <td>Casino</td>\n      <td>Web Mobile</td>\n    </tr>\n    <tr>\n      <th>266193</th>\n      <td>100715850</td>\n      <td>2023-01-14</td>\n      <td>40.0</td>\n      <td>14</td>\n      <td>0.0</td>\n      <td>Casino</td>\n      <td>Web Mobile</td>\n    </tr>\n    <tr>\n      <th>266194</th>\n      <td>100715850</td>\n      <td>2023-01-16</td>\n      <td>90.0</td>\n      <td>24</td>\n      <td>0.0</td>\n      <td>Casino</td>\n      <td>Web Mobile</td>\n    </tr>\n  </tbody>\n</table>\n<p>266195 rows × 7 columns</p>\n</div>"
     },
     "execution_count": 25,
     "metadata": {},
     "output_type": "execute_result"
    }
   ],
   "source": [
    "frame"
   ],
   "metadata": {
    "collapsed": false
   }
  },
  {
   "cell_type": "code",
   "execution_count": 26,
   "outputs": [],
   "source": [
    "import seaborn as sns"
   ],
   "metadata": {
    "collapsed": false
   }
  },
  {
   "cell_type": "code",
   "execution_count": 31,
   "outputs": [],
   "source": [
    "frame['PWAPP'] = frame.apply(lambda x: \"PWAPP\" if x['DeviceType'] in (\"PWAPP\", \"Web Mobile For App\") else 'Not PWAPP', axis=1)"
   ],
   "metadata": {
    "collapsed": false
   }
  },
  {
   "cell_type": "code",
   "execution_count": 36,
   "outputs": [
    {
     "data": {
      "text/plain": "<seaborn.axisgrid.FacetGrid at 0x16953a909d0>"
     },
     "execution_count": 36,
     "metadata": {},
     "output_type": "execute_result"
    },
    {
     "data": {
      "text/plain": "<Figure size 500x500 with 1 Axes>",
      "image/png": "[encoded data removed]"
     },
     "metadata": {},
     "output_type": "display_data"
    }
   ],
   "source": [
    "sns.catplot(data=frame, x='PWAPP', y=\"BetCount\")"
   ],
   "metadata": {
    "collapsed": false
   }
  },
  {
   "cell_type": "code",
   "execution_count": 37,
   "outputs": [
    {
     "data": {
      "text/plain": "<seaborn.axisgrid.FacetGrid at 0x1695e449b50>"
     },
     "execution_count": 37,
     "metadata": {},
     "output_type": "execute_result"
    },
    {
     "data": {
      "text/plain": "<Figure size 500x500 with 1 Axes>",
      "image/png": "[encoded data removed]"
     },
     "metadata": {},
     "output_type": "display_data"
    }
   ],
   "source": [
    "sns.catplot(data=frame, x='PWAPP', y=\"BetAmount\")"
   ],
   "metadata": {
    "collapsed": false
   }
  },
  {
   "cell_type": "code",
   "execution_count": null,
   "outputs": [],
   "source": [],
   "metadata": {
    "collapsed": false
   }
  }
 ],
 "metadata": {
  "kernelspec": {
   "display_name": "Python 3",
   "language": "python",
   "name": "python3"
  },
  "language_info": {
   "codemirror_mode": {
    "name": "ipython",
    "version": 2
   },
   "file_extension": ".py",
   "mimetype": "text/x-python",
   "name": "python",
   "nbconvert_exporter": "python",
   "pygments_lexer": "ipython2",
   "version": "2.7.6"
  }
 },
 "nbformat": 4,
 "nbformat_minor": 0
}
