{
 "cells": [
  {
   "cell_type": "code",
   "execution_count": 32,
   "metadata": {
    "collapsed": true
   },
   "outputs": [
    {
     "ename": "InvalidSessionIdException",
     "evalue": "Message: invalid session id\nStacktrace:\nBacktrace:\n\t(No symbol) [0x006C37D3]\n\t(No symbol) [0x00658B81]\n\t(No symbol) [0x0055B230]\n\t(No symbol) [0x00580758]\n\t(No symbol) [0x005AB316]\n\t(No symbol) [0x005A8092]\n\t(No symbol) [0x005A7544]\n\t(No symbol) [0x00535427]\n\t(No symbol) [0x00535B0E]\n\t(No symbol) [0x00535EEA]\n\tGetHandleVerifier [0x0093ABF2+2510930]\n\tGetHandleVerifier [0x00968EC1+2700065]\n\tGetHandleVerifier [0x0096C86C+2714828]\n\tGetHandleVerifier [0x00773480+645344]\n\t(No symbol) [0x00660FD2]\n\t(No symbol) [0x0053516A]\n\t(No symbol) [0x00534B96]\n\tGetHandleVerifier [0x00988C9C+2830588]\n\tBaseThreadInitThunk [0x766A00F9+25]\n\tRtlGetAppContainerNamedObjectPath [0x77CB7BBE+286]\n\tRtlGetAppContainerNamedObjectPath [0x77CB7B8E+238]\n",
     "output_type": "error",
     "traceback": [
      "\u001B[1;31m---------------------------------------------------------------------------\u001B[0m",
      "\u001B[1;31mInvalidSessionIdException\u001B[0m                 Traceback (most recent call last)",
      "Cell \u001B[1;32mIn[32], line 27\u001B[0m\n\u001B[0;32m     25\u001B[0m df_2 \u001B[38;5;241m=\u001B[39m pd\u001B[38;5;241m.\u001B[39mread_csv(f, skiprows\u001B[38;5;241m=\u001B[39m\u001B[38;5;241m2\u001B[39m)\n\u001B[0;32m     26\u001B[0m max_num \u001B[38;5;241m=\u001B[39m \u001B[38;5;28mmax\u001B[39m(df_2[\u001B[38;5;124m'\u001B[39m\u001B[38;5;124mFreeSpinCount\u001B[39m\u001B[38;5;124m'\u001B[39m])\n\u001B[1;32m---> 27\u001B[0m statuses \u001B[38;5;241m=\u001B[39m \u001B[43mload_data\u001B[49m\u001B[43m(\u001B[49m\u001B[43mdate\u001B[49m\u001B[43m,\u001B[49m\u001B[43m \u001B[49m\u001B[43mmax_num\u001B[49m\u001B[43m)\u001B[49m\n",
      "File \u001B[1;32mZ:\\Narek_python\\Churn\\Adminka Automation\\Used_freespins.py:54\u001B[0m, in \u001B[0;36mload_data\u001B[1;34m(date, max_unused)\u001B[0m\n\u001B[0;32m     51\u001B[0m files \u001B[38;5;241m=\u001B[39m \u001B[38;5;28msorted\u001B[39m(glob\u001B[38;5;241m.\u001B[39miglob(files_path), key\u001B[38;5;241m=\u001B[39mos\u001B[38;5;241m.\u001B[39mpath\u001B[38;5;241m.\u001B[39mgetctime, reverse\u001B[38;5;241m=\u001B[39m\u001B[38;5;28;01mTrue\u001B[39;00m)\n\u001B[0;32m     52\u001B[0m last_file \u001B[38;5;241m=\u001B[39m files[\u001B[38;5;241m0\u001B[39m]\n\u001B[1;32m---> 54\u001B[0m \u001B[43mdriver\u001B[49m\u001B[38;5;241;43m.\u001B[39;49m\u001B[43mget\u001B[49m\u001B[43m(\u001B[49m\u001B[43mmain_link\u001B[49m\u001B[43m)\u001B[49m\n\u001B[0;32m     55\u001B[0m driver\u001B[38;5;241m.\u001B[39mmaximize_window()\n\u001B[0;32m     56\u001B[0m WebDriverWait(driver, \u001B[38;5;241m10\u001B[39m)\u001B[38;5;241m.\u001B[39muntil(EC\u001B[38;5;241m.\u001B[39mpresence_of_element_located((By\u001B[38;5;241m.\u001B[39mXPATH, login_path)))\u001B[38;5;241m.\u001B[39msend_keys(user_name)\n",
      "File \u001B[1;32m~\\AppData\\Local\\Programs\\Python\\Python311\\Lib\\site-packages\\selenium\\webdriver\\remote\\webdriver.py:449\u001B[0m, in \u001B[0;36mWebDriver.get\u001B[1;34m(self, url)\u001B[0m\n\u001B[0;32m    447\u001B[0m \u001B[38;5;28;01mdef\u001B[39;00m \u001B[38;5;21mget\u001B[39m(\u001B[38;5;28mself\u001B[39m, url: \u001B[38;5;28mstr\u001B[39m) \u001B[38;5;241m-\u001B[39m\u001B[38;5;241m>\u001B[39m \u001B[38;5;28;01mNone\u001B[39;00m:\n\u001B[0;32m    448\u001B[0m \u001B[38;5;250m    \u001B[39m\u001B[38;5;124;03m\"\"\"Loads a web page in the current browser session.\"\"\"\u001B[39;00m\n\u001B[1;32m--> 449\u001B[0m     \u001B[38;5;28;43mself\u001B[39;49m\u001B[38;5;241;43m.\u001B[39;49m\u001B[43mexecute\u001B[49m\u001B[43m(\u001B[49m\u001B[43mCommand\u001B[49m\u001B[38;5;241;43m.\u001B[39;49m\u001B[43mGET\u001B[49m\u001B[43m,\u001B[49m\u001B[43m \u001B[49m\u001B[43m{\u001B[49m\u001B[38;5;124;43m\"\u001B[39;49m\u001B[38;5;124;43murl\u001B[39;49m\u001B[38;5;124;43m\"\u001B[39;49m\u001B[43m:\u001B[49m\u001B[43m \u001B[49m\u001B[43murl\u001B[49m\u001B[43m}\u001B[49m\u001B[43m)\u001B[49m\n",
      "File \u001B[1;32m~\\AppData\\Local\\Programs\\Python\\Python311\\Lib\\site-packages\\selenium\\webdriver\\remote\\webdriver.py:440\u001B[0m, in \u001B[0;36mWebDriver.execute\u001B[1;34m(self, driver_command, params)\u001B[0m\n\u001B[0;32m    438\u001B[0m response \u001B[38;5;241m=\u001B[39m \u001B[38;5;28mself\u001B[39m\u001B[38;5;241m.\u001B[39mcommand_executor\u001B[38;5;241m.\u001B[39mexecute(driver_command, params)\n\u001B[0;32m    439\u001B[0m \u001B[38;5;28;01mif\u001B[39;00m response:\n\u001B[1;32m--> 440\u001B[0m     \u001B[38;5;28;43mself\u001B[39;49m\u001B[38;5;241;43m.\u001B[39;49m\u001B[43merror_handler\u001B[49m\u001B[38;5;241;43m.\u001B[39;49m\u001B[43mcheck_response\u001B[49m\u001B[43m(\u001B[49m\u001B[43mresponse\u001B[49m\u001B[43m)\u001B[49m\n\u001B[0;32m    441\u001B[0m     response[\u001B[38;5;124m\"\u001B[39m\u001B[38;5;124mvalue\u001B[39m\u001B[38;5;124m\"\u001B[39m] \u001B[38;5;241m=\u001B[39m \u001B[38;5;28mself\u001B[39m\u001B[38;5;241m.\u001B[39m_unwrap_value(response\u001B[38;5;241m.\u001B[39mget(\u001B[38;5;124m\"\u001B[39m\u001B[38;5;124mvalue\u001B[39m\u001B[38;5;124m\"\u001B[39m, \u001B[38;5;28;01mNone\u001B[39;00m))\n\u001B[0;32m    442\u001B[0m     \u001B[38;5;28;01mreturn\u001B[39;00m response\n",
      "File \u001B[1;32m~\\AppData\\Local\\Programs\\Python\\Python311\\Lib\\site-packages\\selenium\\webdriver\\remote\\errorhandler.py:245\u001B[0m, in \u001B[0;36mErrorHandler.check_response\u001B[1;34m(self, response)\u001B[0m\n\u001B[0;32m    243\u001B[0m         alert_text \u001B[38;5;241m=\u001B[39m value[\u001B[38;5;124m\"\u001B[39m\u001B[38;5;124malert\u001B[39m\u001B[38;5;124m\"\u001B[39m]\u001B[38;5;241m.\u001B[39mget(\u001B[38;5;124m\"\u001B[39m\u001B[38;5;124mtext\u001B[39m\u001B[38;5;124m\"\u001B[39m)\n\u001B[0;32m    244\u001B[0m     \u001B[38;5;28;01mraise\u001B[39;00m exception_class(message, screen, stacktrace, alert_text)  \u001B[38;5;66;03m# type: ignore[call-arg]  # mypy is not smart enough here\u001B[39;00m\n\u001B[1;32m--> 245\u001B[0m \u001B[38;5;28;01mraise\u001B[39;00m exception_class(message, screen, stacktrace)\n",
      "\u001B[1;31mInvalidSessionIdException\u001B[0m: Message: invalid session id\nStacktrace:\nBacktrace:\n\t(No symbol) [0x006C37D3]\n\t(No symbol) [0x00658B81]\n\t(No symbol) [0x0055B230]\n\t(No symbol) [0x00580758]\n\t(No symbol) [0x005AB316]\n\t(No symbol) [0x005A8092]\n\t(No symbol) [0x005A7544]\n\t(No symbol) [0x00535427]\n\t(No symbol) [0x00535B0E]\n\t(No symbol) [0x00535EEA]\n\tGetHandleVerifier [0x0093ABF2+2510930]\n\tGetHandleVerifier [0x00968EC1+2700065]\n\tGetHandleVerifier [0x0096C86C+2714828]\n\tGetHandleVerifier [0x00773480+645344]\n\t(No symbol) [0x00660FD2]\n\t(No symbol) [0x0053516A]\n\t(No symbol) [0x00534B96]\n\tGetHandleVerifier [0x00988C9C+2830588]\n\tBaseThreadInitThunk [0x766A00F9+25]\n\tRtlGetAppContainerNamedObjectPath [0x77CB7BBE+286]\n\tRtlGetAppContainerNamedObjectPath [0x77CB7B8E+238]\n"
     ]
    }
   ],
   "source": [
    "import pandas as pd\n",
    "import os\n",
    "import glob\n",
    "from datetime import datetime\n",
    "from Used_freespins import load_data\n",
    "folder_path = 'Z:/Daily Personal Campaigns/Unused Freespins - Artur B/raw data/'\n",
    "\n",
    "\n",
    "# use glob to get all the csv files\n",
    "# in the folder\n",
    "path = folder_path\n",
    "csv_files = glob.glob(os.path.join(path, \"*.csv\"))\n",
    "\n",
    "# loop over the list of csv files\n",
    "for f in csv_files:\n",
    "    # read the csv file\n",
    "    df_1 = pd.read_csv(f, nrows=1)\n",
    "    from_date = df_1.index[0]\n",
    "    from_date = from_date[10:26]\n",
    "    from_date = datetime.strptime(from_date, \"%d.%m.%Y %H:%M\")\n",
    "    until_date = df_1.iloc[0, 0]\n",
    "    until_date = until_date[11:27]\n",
    "    until_date = datetime.strptime(until_date, \"%d.%m.%Y %H:%M\")\n",
    "    date = str(from_date) + ' - ' + str(until_date)\n",
    "    df_2 = pd.read_csv(f, skiprows=2)\n",
    "    max_num = max(df_2['FreeSpinCount'])\n",
    "    statuses = load_data(date, max_num)"
   ]
  },
  {
   "cell_type": "code",
   "execution_count": null,
   "outputs": [],
   "source": [],
   "metadata": {
    "collapsed": false
   }
  }
 ],
 "metadata": {
  "kernelspec": {
   "display_name": "Python 3",
   "language": "python",
   "name": "python3"
  },
  "language_info": {
   "codemirror_mode": {
    "name": "ipython",
    "version": 2
   },
   "file_extension": ".py",
   "mimetype": "text/x-python",
   "name": "python",
   "nbconvert_exporter": "python",
   "pygments_lexer": "ipython2",
   "version": "2.7.6"
  }
 },
 "nbformat": 4,
 "nbformat_minor": 0
}
