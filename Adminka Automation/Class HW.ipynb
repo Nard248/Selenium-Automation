{
 "cells": [
  {
   "cell_type": "code",
   "execution_count": 1,
   "metadata": {
    "collapsed": true
   },
   "outputs": [],
   "source": [
    "# Python is an object oriented programming language.\n",
    "#\n",
    "# Almost everything in Python is an object, with its properties and methods.\n",
    "#\n",
    "# A Class is like an object constructor, or a \"blueprint\" for creating objects."
   ]
  },
  {
   "cell_type": "code",
   "execution_count": 2,
   "outputs": [],
   "source": [
    "class MyClass:\n",
    "  x = 5"
   ],
   "metadata": {
    "collapsed": false
   }
  },
  {
   "cell_type": "code",
   "execution_count": 3,
   "outputs": [
    {
     "name": "stdout",
     "output_type": "stream",
     "text": [
      "5\n"
     ]
    }
   ],
   "source": [
    "p1 = MyClass()\n",
    "print(p1.x)"
   ],
   "metadata": {
    "collapsed": false
   }
  },
  {
   "cell_type": "code",
   "execution_count": 4,
   "outputs": [],
   "source": [
    "# The __init__() Function\n",
    "# The examples above are classes and objects in their simplest form, and are not really useful in real life applications.\n",
    "#\n",
    "# To understand the meaning of classes we have to understand the built-in __init__() function.\n",
    "#\n",
    "# All classes have a function called __init__(), which is always executed when the class is being initiated.\n",
    "#\n",
    "# Use the __init__() function to assign values to object properties, or other operations that are necessary to do when the object is being created:"
   ],
   "metadata": {
    "collapsed": false
   }
  },
  {
   "cell_type": "code",
   "execution_count": 5,
   "outputs": [
    {
     "name": "stdout",
     "output_type": "stream",
     "text": [
      "John\n",
      "36\n"
     ]
    }
   ],
   "source": [
    "class Person:\n",
    "  def __init__(self, name, age):\n",
    "    self.name = name\n",
    "    self.age = age\n",
    "\n",
    "p1 = Person(\"John\", 36)\n",
    "\n",
    "print(p1.name)\n",
    "print(p1.age)"
   ],
   "metadata": {
    "collapsed": false
   }
  },
  {
   "cell_type": "code",
   "execution_count": 6,
   "outputs": [],
   "source": [
    "# Inheritance allows us to define a class that inherits all the methods and properties from another class.\n",
    "#\n",
    "# Parent class is the class being inherited from, also called base class.\n",
    "#\n",
    "# Child class is the class that inherits from another class, also called derived class."
   ],
   "metadata": {
    "collapsed": false
   }
  },
  {
   "cell_type": "code",
   "execution_count": 7,
   "outputs": [
    {
     "name": "stdout",
     "output_type": "stream",
     "text": [
      "John Doe\n"
     ]
    }
   ],
   "source": [
    "class Person:\n",
    "  def __init__(self, fname, lname):\n",
    "    self.firstname = fname\n",
    "    self.lastname = lname\n",
    "\n",
    "  def printname(self):\n",
    "    print(self.firstname, self.lastname)\n",
    "\n",
    "#Use the Person class to create an object, and then execute the printname method:\n",
    "\n",
    "x = Person(\"John\", \"Doe\")\n",
    "x.printname()"
   ],
   "metadata": {
    "collapsed": false
   }
  },
  {
   "cell_type": "code",
   "execution_count": 8,
   "outputs": [],
   "source": [
    "class Student(Person):\n",
    "  pass"
   ],
   "metadata": {
    "collapsed": false
   }
  },
  {
   "cell_type": "code",
   "execution_count": 10,
   "outputs": [],
   "source": [
    "class Student(Person):\n",
    "  def __init__(self, fname, lname):\n",
    "    #add properties etc.\n",
    "    pass"
   ],
   "metadata": {
    "collapsed": false
   }
  },
  {
   "cell_type": "code",
   "execution_count": 11,
   "outputs": [],
   "source": [
    "class Student(Person):\n",
    "  def __init__(self, fname, lname):\n",
    "    Person.__init__(self, fname, lname)"
   ],
   "metadata": {
    "collapsed": false
   }
  },
  {
   "cell_type": "code",
   "execution_count": 12,
   "outputs": [],
   "source": [
    "class Student(Person):\n",
    "  def __init__(self, fname, lname):\n",
    "    super().__init__(fname, lname)"
   ],
   "metadata": {
    "collapsed": false
   }
  },
  {
   "cell_type": "code",
   "execution_count": 13,
   "outputs": [],
   "source": [
    "class Student(Person):\n",
    "  def __init__(self, fname, lname):\n",
    "    super().__init__(fname, lname)\n",
    "    self.graduationyear = 2019"
   ],
   "metadata": {
    "collapsed": false
   }
  },
  {
   "cell_type": "code",
   "execution_count": 14,
   "outputs": [],
   "source": [
    "class Student(Person):\n",
    "  def __init__(self, fname, lname, year):\n",
    "    super().__init__(fname, lname)\n",
    "    self.graduationyear = year\n",
    "\n",
    "x = Student(\"Mike\", \"Olsen\", 2019)"
   ],
   "metadata": {
    "collapsed": false
   }
  },
  {
   "cell_type": "code",
   "execution_count": 15,
   "outputs": [],
   "source": [
    "class Student(Person):\n",
    "  def __init__(self, fname, lname, year):\n",
    "    super().__init__(fname, lname)\n",
    "    self.graduationyear = year\n",
    "\n",
    "  def welcome(self):\n",
    "    print(\"Welcome\", self.firstname, self.lastname, \"to the class of\", self.graduationyear)"
   ],
   "metadata": {
    "collapsed": false
   }
  },
  {
   "cell_type": "code",
   "execution_count": 16,
   "outputs": [],
   "source": [
    "# The four principles of OOPs are Inheritance, Polymorphism, Encapsulation, and Abstraction"
   ],
   "metadata": {
    "collapsed": false
   }
  },
  {
   "cell_type": "code",
   "execution_count": 17,
   "outputs": [],
   "source": [
    "# What Is Object-Oriented Programming?\n",
    "# Object-Oriented Programming(OOP), a programming paradigm, is all about creating “objects.” An object is a group of interrelated variables and functions. These variables are often referred to as properties of the object, and functions are referred to as the behavior of the objects. These objects provide a better and clear structure for the program.\n",
    "#\n",
    "# For example, a car can be an object. If we consider the car as an object, its properties would be its color, model, price, brand, etc. And its behavior/function would be acceleration, slowing down, and gear change.\n",
    "#\n",
    "# Another example – If we consider a dog as an object then its properties would be its color, breed, name, weight, etc., and its behavior/function would be walking, barking, playing, etc.\n",
    "#\n",
    "# Object-Oriented Programming is famous because it implements real-world entities like objects, hiding, inheritance, etc, in programming. It makes visualization easier because it is close to real-world scenarios."
   ],
   "metadata": {
    "collapsed": false
   }
  },
  {
   "cell_type": "code",
   "execution_count": 21,
   "outputs": [
    {
     "name": "stdout",
     "output_type": "stream",
     "text": [
      "<__main__.Car object at 0x0000024AD91DF910>\n"
     ]
    }
   ],
   "source": [
    "# Objects and Object Instantiation\n",
    "# When we define a class, only the description or a blueprint of the object is created. There is no memory allocation until we create its object. The objector instance contains real data or information.\n",
    "#\n",
    "# Instantiation is nothing but creating a new object/instance of a class. Let’s create the object of the above class we defined-\n",
    "class Car:\n",
    "    pass\n",
    "\n",
    "\n",
    "obj1 = Car()\n",
    "# And it’s done! Note that you can change the object name according to your choice.\n",
    "#\n",
    "# Try printing this object-\n",
    "\n",
    "print(obj1)"
   ],
   "metadata": {
    "collapsed": false
   }
  },
  {
   "cell_type": "code",
   "execution_count": 23,
   "outputs": [],
   "source": [
    "class Car:\n",
    "    def __init__(self, name, color):\n",
    "        self.name = name\n",
    "        self.color = color\n",
    "\n",
    "# So, the properties of the car or any other object must be inside a method that we call __init__( ). This __init__() method is also known as the constructor method. We call a constructor method whenever an object of the class is constructed.\n",
    "# Now let’s talk about the parameter of the __init__() method. So, the first parameter of this method has to be self. Then only will the rest of the parameters come."
   ],
   "metadata": {
    "collapsed": false
   }
  },
  {
   "cell_type": "code",
   "execution_count": 24,
   "outputs": [],
   "source": [
    "class Car:\n",
    "    car_type = \"Sedan\"                 #class attribute\n",
    "    def __init__(self, name, color):\n",
    "        self.name = name               #instance attribute\n",
    "        self.color = color             #instance attribute"
   ],
   "metadata": {
    "collapsed": false
   }
  },
  {
   "cell_type": "code",
   "execution_count": 25,
   "outputs": [
    {
     "name": "stdout",
     "output_type": "stream",
     "text": [
      "Sedan\n"
     ]
    }
   ],
   "source": [
    "print(Car.car_type)"
   ],
   "metadata": {
    "collapsed": false
   }
  },
  {
   "cell_type": "code",
   "execution_count": 26,
   "outputs": [
    {
     "name": "stdout",
     "output_type": "stream",
     "text": [
      "The Honda City car gives the mileage of 24.1km/l\n",
      "The Honda City runs at the maximum speed of 150km/hr\n"
     ]
    }
   ],
   "source": [
    "#You can play around with the properties of the car and also add and remove some properties in the code block down below\n",
    "\n",
    "class Car:\n",
    "    car_type = \"Sedan\"\n",
    "\n",
    "    def __init__(self, name, mileage):\n",
    "        self.name = name\n",
    "        self.mileage = mileage\n",
    "\n",
    "    def description(self):\n",
    "        return f\"The {self.name} car gives the mileage of {self.mileage}km/l\"\n",
    "\n",
    "    def max_speed(self, speed):\n",
    "        return f\"The {self.name} runs at the maximum speed of {speed}km/hr\"\n",
    "\n",
    "obj2 = Car(\"Honda City\",24.1)\n",
    "print(obj2.description())\n",
    "print(obj2.max_speed(150))"
   ],
   "metadata": {
    "collapsed": false
   }
  },
  {
   "cell_type": "code",
   "execution_count": 27,
   "outputs": [
    {
     "name": "stdout",
     "output_type": "stream",
     "text": [
      "The Honda City car gives the mileage of 24.1km/l\n",
      "The Honda City runs at the maximum speed of 150km/hr\n"
     ]
    }
   ],
   "source": [
    "obj2 = Car(\"Honda City\",24.1)\n",
    "print(obj2.description())\n",
    "print(obj2.max_speed(150))"
   ],
   "metadata": {
    "collapsed": false
   }
  },
  {
   "cell_type": "code",
   "execution_count": 29,
   "outputs": [
    {
     "name": "stdout",
     "output_type": "stream",
     "text": [
      "The BMW 7-series car gives the mileage of 39.53km/l\n",
      "The Audi A8 L car gives the mileage of 14km/l\n",
      "This is the description method of class Audi.\n"
     ]
    }
   ],
   "source": [
    "## INHERITANCE\n",
    "class Car:          #parent class\n",
    "\n",
    "    def __init__(self, name, mileage):\n",
    "        self.name = name\n",
    "        self.mileage = mileage\n",
    "\n",
    "    def description(self):\n",
    "        return f\"The {self.name} car gives the mileage of {self.mileage}km/l\"\n",
    "\n",
    "class BMW(Car):     #child class\n",
    "    pass\n",
    "\n",
    "class Audi(Car):     #child class\n",
    "    def audi_desc(self):\n",
    "        return \"This is the description method of class Audi.\"\n",
    "obj1 = BMW(\"BMW 7-series\",39.53)\n",
    "print(obj1.description())\n",
    "\n",
    "obj2 = Audi(\"Audi A8 L\",14)\n",
    "print(obj2.description())\n",
    "print(obj2.audi_desc())"
   ],
   "metadata": {
    "collapsed": false
   }
  },
  {
   "cell_type": "code",
   "execution_count": 30,
   "outputs": [],
   "source": [
    "# Encapsulation Basically, it hides the data from the access of outsiders. Such as, if an organization wants to protect an object/information from unwanted access by clients or any unauthorized person, then encapsulation is the way to ensure this."
   ],
   "metadata": {
    "collapsed": false
   }
  },
  {
   "cell_type": "code",
   "execution_count": 34,
   "outputs": [
    {
     "name": "stdout",
     "output_type": "stream",
     "text": [
      "The BMW 7-series car gives the mileage of 39.53km/l\n"
     ]
    },
    {
     "ename": "AttributeError",
     "evalue": "'car' object has no attribute '__name'",
     "output_type": "error",
     "traceback": [
      "\u001B[1;31m---------------------------------------------------------------------------\u001B[0m",
      "\u001B[1;31mAttributeError\u001B[0m                            Traceback (most recent call last)",
      "Cell \u001B[1;32mIn[34], line 15\u001B[0m\n\u001B[0;32m     12\u001B[0m \u001B[38;5;28mprint\u001B[39m(obj\u001B[38;5;241m.\u001B[39mdescription())\n\u001B[0;32m     14\u001B[0m \u001B[38;5;66;03m#accessing protected variable directly from outside\u001B[39;00m\n\u001B[1;32m---> 15\u001B[0m \u001B[38;5;28mprint\u001B[39m(\u001B[43mobj\u001B[49m\u001B[38;5;241;43m.\u001B[39;49m\u001B[43m__name\u001B[49m)\n\u001B[0;32m     16\u001B[0m \u001B[38;5;28mprint\u001B[39m(obj\u001B[38;5;241m.\u001B[39mmileage)\n",
      "\u001B[1;31mAttributeError\u001B[0m: 'car' object has no attribute '__name'"
     ]
    }
   ],
   "source": [
    "class car:\n",
    "\n",
    "    def __init__(self, name, mileage):\n",
    "        self.__name = name                #protected variable\n",
    "        self.mileage = mileage\n",
    "\n",
    "    def description(self):\n",
    "        return f\"The {self.__name} car gives the mileage of {self.mileage}km/l\"\n",
    "obj = car(\"BMW 7-series\",39.53)\n",
    "\n",
    "#accessing protected variable via class method\n",
    "print(obj.description())\n",
    "\n",
    "#accessing protected variable directly from outside\n",
    "print(obj.__name)\n",
    "print(obj.mileage)"
   ],
   "metadata": {
    "collapsed": false
   }
  },
  {
   "cell_type": "code",
   "execution_count": 36,
   "outputs": [
    {
     "name": "stdout",
     "output_type": "stream",
     "text": [
      "The BMW 7-series car gives the mileage of 39.53km/l\n",
      "39.53\n"
     ]
    },
    {
     "ename": "AttributeError",
     "evalue": "'Car' object has no attribute '__name'",
     "output_type": "error",
     "traceback": [
      "\u001B[1;31m---------------------------------------------------------------------------\u001B[0m",
      "\u001B[1;31mAttributeError\u001B[0m                            Traceback (most recent call last)",
      "Cell \u001B[1;32mIn[36], line 16\u001B[0m\n\u001B[0;32m     14\u001B[0m \u001B[38;5;66;03m#accessing private variable directly from outside\u001B[39;00m\n\u001B[0;32m     15\u001B[0m \u001B[38;5;28mprint\u001B[39m(obj\u001B[38;5;241m.\u001B[39mmileage)\n\u001B[1;32m---> 16\u001B[0m \u001B[38;5;28mprint\u001B[39m(\u001B[43mobj\u001B[49m\u001B[38;5;241;43m.\u001B[39;49m\u001B[43m__name\u001B[49m)\n",
      "\u001B[1;31mAttributeError\u001B[0m: 'Car' object has no attribute '__name'"
     ]
    }
   ],
   "source": [
    "class Car:\n",
    "\n",
    "    def __init__(self, name, mileage):\n",
    "        self.__name = name              #private variable\n",
    "        self.mileage = mileage\n",
    "\n",
    "    def description(self):\n",
    "        return f\"The {self.__name} car gives the mileage of {self.mileage}km/l\"\n",
    "obj = Car(\"BMW 7-series\",39.53)\n",
    "\n",
    "#accessing private variable via class method\n",
    "print(obj.description())\n",
    "\n",
    "#accessing private variable directly from outside\n",
    "print(obj.mileage)\n",
    "print(obj.__name)"
   ],
   "metadata": {
    "collapsed": false
   }
  },
  {
   "cell_type": "code",
   "execution_count": 37,
   "outputs": [
    {
     "name": "stdout",
     "output_type": "stream",
     "text": [
      "This the description function of class AUDI.\n",
      "This the description function of class BMW.\n"
     ]
    }
   ],
   "source": [
    "# This is a Greek word. If we break the term Polymorphism, we get “poly”-many and “morph”-forms. So Polymorphism means having many forms. In OOP it refers to the functions having the same names but carrying different functionalities.\n",
    "\n",
    "class Audi:\n",
    "  def description(self):\n",
    "    print(\"This the description function of class AUDI.\")\n",
    "\n",
    "class BMW:\n",
    "  def description(self):\n",
    "    print(\"This the description function of class BMW.\")\n",
    "audi = Audi()\n",
    "bmw = BMW()\n",
    "for car in (audi,bmw):\n",
    " car.description()"
   ],
   "metadata": {
    "collapsed": false
   }
  },
  {
   "cell_type": "code",
   "execution_count": 38,
   "outputs": [],
   "source": [
    "# We use Abstraction for hiding the internal details or implementations of a function and showing its functionalities only. This is similar to the way you know how to drive a car without knowing the background mechanism. Or you know how to turn on or off a light using a switch, but you don’t know what is happening behind the socket.\n",
    "#\n",
    "# Any class with at least one abstract function is an abstract class. To create an abstraction class, first, you need to import the ABC class from abc module. This lets you create abstract methods inside it. ABC stands for Abstract Base Class.\n",
    "\n",
    "from abc import ABC\n",
    "\n",
    "class abs_class(ABC):\n",
    "    # Body of the class\n",
    "    pass"
   ],
   "metadata": {
    "collapsed": false
   }
  },
  {
   "cell_type": "code",
   "execution_count": 39,
   "outputs": [
    {
     "name": "stdout",
     "output_type": "stream",
     "text": [
      "This the description function of class car.\n",
      "The Honda City's price is 25 lakhs.\n"
     ]
    }
   ],
   "source": [
    "from abc import ABC, abstractmethod\n",
    "\n",
    "class Car(ABC):\n",
    "    def __init__(self,name):\n",
    "        self.name = name\n",
    "\n",
    "    def description(self):\n",
    "        print(\"This the description function of class car.\")\n",
    "\n",
    "    @abstractmethod\n",
    "    def price(self,x):\n",
    "        pass\n",
    "class new(Car):\n",
    "    def price(self,x):\n",
    "        print(f\"The {self.name}'s price is {x} lakhs.\")\n",
    "obj = new(\"Honda City\")\n",
    "\n",
    "obj.description()\n",
    "obj.price(25)"
   ],
   "metadata": {
    "collapsed": false
   }
  },
  {
   "cell_type": "code",
   "execution_count": null,
   "outputs": [],
   "source": [],
   "metadata": {
    "collapsed": false
   }
  }
 ],
 "metadata": {
  "kernelspec": {
   "display_name": "Python 3",
   "language": "python",
   "name": "python3"
  },
  "language_info": {
   "codemirror_mode": {
    "name": "ipython",
    "version": 2
   },
   "file_extension": ".py",
   "mimetype": "text/x-python",
   "name": "python",
   "nbconvert_exporter": "python",
   "pygments_lexer": "ipython2",
   "version": "2.7.6"
  }
 },
 "nbformat": 4,
 "nbformat_minor": 0
}
