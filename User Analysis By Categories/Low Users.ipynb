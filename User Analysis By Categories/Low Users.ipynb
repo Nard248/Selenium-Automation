{
 "cells": [
  {
   "cell_type": "code",
   "execution_count": 1,
   "metadata": {
    "collapsed": true
   },
   "outputs": [],
   "source": [
    "import pandas as pd\n",
    "import pyodbc\n",
    "import numpy as np\n",
    "import matplotlib.pyplot as plt\n",
    "import seaborn as sns"
   ]
  },
  {
   "cell_type": "code",
   "execution_count": 3,
   "outputs": [
    {
     "data": {
      "text/plain": "   PartnerUserId  CasinoID  Category\n0      100377550    205613       Low\n1      100377551    194807       Low\n2      100377552    266250  FreeRoll\n3      100377553    507939       Low\n4      100377555    405116  FreeRoll",
      "text/html": "<div>\n<style scoped>\n    .dataframe tbody tr th:only-of-type {\n        vertical-align: middle;\n    }\n\n    .dataframe tbody tr th {\n        vertical-align: top;\n    }\n\n    .dataframe thead th {\n        text-align: right;\n    }\n</style>\n<table border=\"1\" class=\"dataframe\">\n  <thead>\n    <tr style=\"text-align: right;\">\n      <th></th>\n      <th>PartnerUserId</th>\n      <th>CasinoID</th>\n      <th>Category</th>\n    </tr>\n  </thead>\n  <tbody>\n    <tr>\n      <th>0</th>\n      <td>100377550</td>\n      <td>205613</td>\n      <td>Low</td>\n    </tr>\n    <tr>\n      <th>1</th>\n      <td>100377551</td>\n      <td>194807</td>\n      <td>Low</td>\n    </tr>\n    <tr>\n      <th>2</th>\n      <td>100377552</td>\n      <td>266250</td>\n      <td>FreeRoll</td>\n    </tr>\n    <tr>\n      <th>3</th>\n      <td>100377553</td>\n      <td>507939</td>\n      <td>Low</td>\n    </tr>\n    <tr>\n      <th>4</th>\n      <td>100377555</td>\n      <td>405116</td>\n      <td>FreeRoll</td>\n    </tr>\n  </tbody>\n</table>\n</div>"
     },
     "execution_count": 3,
     "metadata": {},
     "output_type": "execute_result"
    }
   ],
   "source": [
    "folder_path = 'Z:\\\\User Categories\\\\2022'\n",
    "december_categories = pd.read_csv(folder_path + '\\\\UserCategories_December_2022.csv')\n",
    "december_categories.head()"
   ],
   "metadata": {
    "collapsed": false
   }
  },
  {
   "cell_type": "code",
   "execution_count": 5,
   "outputs": [
    {
     "data": {
      "text/plain": "   PartnerUserId  CasinoID Category\n0      100377550    205613      Low\n1      100377551    194807      Low\n3      100377553    507939      Low\n8      100377560    397526      Low\n9      100377561    305450      Low",
      "text/html": "<div>\n<style scoped>\n    .dataframe tbody tr th:only-of-type {\n        vertical-align: middle;\n    }\n\n    .dataframe tbody tr th {\n        vertical-align: top;\n    }\n\n    .dataframe thead th {\n        text-align: right;\n    }\n</style>\n<table border=\"1\" class=\"dataframe\">\n  <thead>\n    <tr style=\"text-align: right;\">\n      <th></th>\n      <th>PartnerUserId</th>\n      <th>CasinoID</th>\n      <th>Category</th>\n    </tr>\n  </thead>\n  <tbody>\n    <tr>\n      <th>0</th>\n      <td>100377550</td>\n      <td>205613</td>\n      <td>Low</td>\n    </tr>\n    <tr>\n      <th>1</th>\n      <td>100377551</td>\n      <td>194807</td>\n      <td>Low</td>\n    </tr>\n    <tr>\n      <th>3</th>\n      <td>100377553</td>\n      <td>507939</td>\n      <td>Low</td>\n    </tr>\n    <tr>\n      <th>8</th>\n      <td>100377560</td>\n      <td>397526</td>\n      <td>Low</td>\n    </tr>\n    <tr>\n      <th>9</th>\n      <td>100377561</td>\n      <td>305450</td>\n      <td>Low</td>\n    </tr>\n  </tbody>\n</table>\n</div>"
     },
     "execution_count": 5,
     "metadata": {},
     "output_type": "execute_result"
    }
   ],
   "source": [
    "december_lows = december_categories[december_categories['Category'] == 'Low']\n",
    "december_lows.head()"
   ],
   "metadata": {
    "collapsed": false
   }
  },
  {
   "cell_type": "code",
   "execution_count": null,
   "outputs": [],
   "source": [],
   "metadata": {
    "collapsed": false
   }
  }
 ],
 "metadata": {
  "kernelspec": {
   "display_name": "Python 3",
   "language": "python",
   "name": "python3"
  },
  "language_info": {
   "codemirror_mode": {
    "name": "ipython",
    "version": 2
   },
   "file_extension": ".py",
   "mimetype": "text/x-python",
   "name": "python",
   "nbconvert_exporter": "python",
   "pygments_lexer": "ipython2",
   "version": "2.7.6"
  }
 },
 "nbformat": 4,
 "nbformat_minor": 0
}
