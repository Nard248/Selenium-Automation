{
 "cells": [
  {
   "cell_type": "code",
   "execution_count": null,
   "metadata": {
    "collapsed": true
   },
   "outputs": [],
   "source": [
    "import pandas as pd\n",
    "import pyodbc"
   ]
  },
  {
   "cell_type": "code",
   "execution_count": null,
   "metadata": {},
   "outputs": [],
   "source": [
    "raw_data = pd.read_excel('uszips.xlsx')"
   ]
  },
  {
   "cell_type": "code",
   "execution_count": null,
   "metadata": {},
   "outputs": [],
   "source": [
    "raw_data.head()"
   ]
  },
  {
   "cell_type": "markdown",
   "metadata": {},
   "source": [
    "Here I connect to Databse to make more convenient way of solving the problem from jupyter notebook\n"
   ]
  },
  {
   "cell_type": "code",
   "execution_count": null,
   "metadata": {},
   "outputs": [],
   "source": [
    "import os\n",
    "import psycopg2\n",
    "from dotenv import load_dotenv\n",
    "\n",
    "load_dotenv()\n",
    "\n",
    "connection = psycopg2.connect(host=os.environ.get('PG_HOST'),\n",
    "                        port=os.environ.get('PG_PORT'),\n",
    "                        user=os.environ.get('PG_USER'),\n",
    "                        password=os.environ.get('PG_PASSWORD'),\n",
    "                        dbname=os.environ.get('PG_DATABASE'),\n",
    "                        sslmode='require')\n",
    "connection.autocommit = True\n",
    "cursor = connection.cursor()\n",
    "cursor.execute('SELECT %s as connected;', ('Connection to postgres successful!',))\n",
    "print(cursor.fetchone())"
   ]
  },
  {
   "cell_type": "code",
   "execution_count": null,
   "metadata": {},
   "outputs": [],
   "source": [
    "createTableQuery = \"\"\"\n",
    "    CREATE TABLE IF NOT EXISTS my_table(\n",
    "      id BIGSERIAL PRIMARY KEY NOT NULL ,\n",
    "      name varchar,\n",
    "      date TIMESTAMP NOT NULL DEFAULT current_timestamp\n",
    "    );\n",
    "  \"\"\"\n",
    "cursor.execute(createTableQuery)\n",
    "#Just testing the databse response"
   ]
  },
  {
   "cell_type": "code",
   "execution_count": null,
   "metadata": {},
   "outputs": [],
   "source": [
    "delete_table_query = \"\"\"\n",
    "    DROP TABLE IF EXISTS my_table;\n",
    "  \"\"\"\n",
    "cursor.execute(delete_table_query)"
   ]
  },
  {
   "cell_type": "code",
   "execution_count": null,
   "metadata": {},
   "outputs": [],
   "source": [
    "# craete_database = \"\"\"\n",
    "#     CREATE DATABASE narek_meloyan_hw1\n",
    "# \"\"\"\n",
    "# cursor.execute(craete_database)"
   ]
  },
  {
   "cell_type": "code",
   "execution_count": null,
   "metadata": {},
   "outputs": [],
   "source": [
    "city_table = raw_data[['city', 'state_id', 'state_name', 'population', 'density']].drop_duplicates()"
   ]
  },
  {
   "cell_type": "code",
   "execution_count": null,
   "metadata": {},
   "outputs": [],
   "source": [
    "city_table"
   ]
  },
  {
   "cell_type": "code",
   "execution_count": null,
   "metadata": {},
   "outputs": [],
   "source": [
    "import numpy as np\n",
    "city_id = np.arange(1, city_table.shape[0]+1)"
   ]
  },
  {
   "cell_type": "code",
   "execution_count": null,
   "metadata": {},
   "outputs": [],
   "source": [
    "city_table['city_id'] = city_id"
   ]
  },
  {
   "cell_type": "code",
   "execution_count": null,
   "metadata": {},
   "outputs": [],
   "source": [
    "city_table"
   ]
  },
  {
   "cell_type": "code",
   "execution_count": null,
   "metadata": {},
   "outputs": [],
   "source": [
    "create_city_table_query = f\"\"\"\n",
    "    CREATE TABLE cities (\n",
    "        city_id INT PRIMARY KEY NOT NULL,\n",
    "        city_name VARCHAR(50) NOT NULL,\n",
    "        state_id VARCHAR(2) NOT NULL,\n",
    "        state_name VARCHAR(50) NOT NULL,\n",
    "        pop FLOAT,\n",
    "        density FLOAT\n",
    "    );\n",
    "    \"\"\"\n",
    "cursor = connection.cursor()\n",
    "cursor.execute(create_city_table_query)"
   ]
  },
  {
   "cell_type": "code",
   "execution_count": null,
   "metadata": {},
   "outputs": [],
   "source": [
    "def insert_values():\n",
    "    for i in range(len(city_table)):\n",
    "        city_name  = city_table.iloc[i, 0]\n",
    "        state_id   = city_table.iloc[i, 1]\n",
    "        state_name = city_table.iloc[i, 2]\n",
    "        population = city_table.iloc[i, 3] if str(city_table.iloc[i, 3]) != 'nan' else \"NULL\"\n",
    "        density    = city_table.iloc[i, 4] if str(city_table.iloc[i, 4]) != 'nan' else \"NULL\"\n",
    "        city_id    = city_table.iloc[i, 5]\n",
    "        insert_query = f\"\"\"\n",
    "            INSERT INTO cities(city_id, city_name, state_id, state_name, pop, density)\n",
    "            VALUES({int(city_id)}, '{city_name.replace(\"'\", \"''\")}', '{state_id}', '{state_name}', {population}, {density})\n",
    "        \"\"\"\n",
    "        cursor.execute(insert_query)\n",
    "insert_values()"
   ]
  },
  {
   "cell_type": "code",
   "execution_count": null,
   "metadata": {},
   "outputs": [],
   "source": [
    "city_id_data = raw_data.merge(city_table, left_on=['city', 'state_id', 'state_name', 'population', 'density'], right_on=['city', 'state_id', 'state_name', 'population', 'density'])\n",
    "city_id_data"
   ]
  },
  {
   "cell_type": "code",
   "execution_count": null,
   "metadata": {},
   "outputs": [],
   "source": [
    "zip_frame = city_id_data[['zip', 'lat', 'lng', 'city_id']]"
   ]
  },
  {
   "cell_type": "code",
   "execution_count": null,
   "metadata": {},
   "outputs": [],
   "source": [
    "zip_frame.head()"
   ]
  },
  {
   "cell_type": "code",
   "execution_count": null,
   "metadata": {},
   "outputs": [],
   "source": [
    "create_zip_table_query = f\"\"\"\n",
    "    CREATE TABLE zip (\n",
    "        zip INT PRIMARY KEY NOT NULL,\n",
    "        latitude FLOAT(7) NOT NULL,\n",
    "        longitude FLOAT(7) NOT NULL,\n",
    "        city_id INT,\n",
    "\n",
    "        CONSTRAINT FK_zip_city FOREIGN KEY(city_id)\n",
    "            REFERENCES cities(city_id)\n",
    "            ON DELETE CASCADE\n",
    "    );\n",
    "    \"\"\"\n",
    "cursor = connection.cursor()\n",
    "cursor.execute(create_zip_table_query)"
   ]
  },
  {
   "cell_type": "code",
   "execution_count": null,
   "metadata": {},
   "outputs": [],
   "source": [
    "def insert_values_zip():\n",
    "    for i in range(len(zip_frame)):\n",
    "        zip_code = zip_frame.iloc[i, 0]\n",
    "        lat      = zip_frame.iloc[i, 1]\n",
    "        lng      = zip_frame.iloc[i, 2]\n",
    "        city_id  = zip_frame.iloc[i, 3]\n",
    "        insert_query = f\"\"\"\n",
    "            INSERT INTO zip(zip, latitude, longitude, city_id)\n",
    "            VALUES({zip_code}, {lat}, {lng}, {city_id})\n",
    "        \"\"\"\n",
    "        cursor.execute(insert_query)\n",
    "insert_values_zip()"
   ]
  },
  {
   "cell_type": "code",
   "execution_count": null,
   "metadata": {},
   "outputs": [],
   "source": [
    "city_id_data.head()"
   ]
  },
  {
   "cell_type": "code",
   "execution_count": null,
   "metadata": {},
   "outputs": [],
   "source": [
    "county_names = city_id_data[['county_name', 'county_fips']]"
   ]
  },
  {
   "cell_type": "code",
   "execution_count": null,
   "metadata": {},
   "outputs": [],
   "source": [
    "for_county = city_id_data[['zip', 'county_weights']]\n",
    "for_county"
   ]
  },
  {
   "cell_type": "code",
   "execution_count": null,
   "metadata": {},
   "outputs": [],
   "source": [
    "import json\n",
    "json_dict = json.loads(for_county.iloc[0, 1])\n",
    "zips = []\n",
    "fips = []\n",
    "weight = []\n",
    "for i in range(len(for_county)):\n",
    "    zip = for_county.iloc[i, 0]\n",
    "    json_ = json.loads(for_county.iloc[i, 1])\n",
    "    for key, value in json_.items():\n",
    "        zips.append(zip)\n",
    "        fips.append(key)\n",
    "        weight.append(value)"
   ]
  },
  {
   "cell_type": "code",
   "execution_count": null,
   "metadata": {},
   "outputs": [],
   "source": [
    "counties = pd.DataFrame({\n",
    "    \"zip\": zips,\n",
    "    \"fips\": fips,\n",
    "    \"weight\": weight\n",
    "})\n",
    "counties"
   ]
  },
  {
   "cell_type": "code",
   "execution_count": null,
   "metadata": {},
   "outputs": [],
   "source": [
    "counties['fips'] = counties['fips'].astype(int)\n",
    "counties = counties.merge(county_names, left_on='fips', right_on='county_fips').drop_duplicates()"
   ]
  },
  {
   "cell_type": "code",
   "execution_count": null,
   "metadata": {},
   "outputs": [],
   "source": [
    "counties"
   ]
  },
  {
   "cell_type": "code",
   "execution_count": null,
   "metadata": {},
   "outputs": [],
   "source": [
    "create_county_table_query = f\"\"\"\n",
    "    CREATE TABLE county (\n",
    "        county_id SERIAL PRIMARY KEY,\n",
    "        zip INT,\n",
    "        county_name VARCHAR(50),\n",
    "        county_weight FLOAT(7),\n",
    "        county_fips INT,\n",
    "        CONSTRAINT FK_zip_county FOREIGN KEY(zip)\n",
    "            REFERENCES zip(zip)\n",
    "            ON DELETE CASCADE\n",
    "    );\n",
    "    \"\"\"\n",
    "cursor = connection.cursor()\n",
    "cursor.execute(create_county_table_query)"
   ]
  },
  {
   "cell_type": "code",
   "execution_count": null,
   "metadata": {},
   "outputs": [],
   "source": [
    "def insert_values_county():\n",
    "    for i in range(len(counties)):\n",
    "        zip_code = counties.iloc[i, 0]\n",
    "        fips     = counties.iloc[i, 1]\n",
    "        weight   = counties.iloc[i, 2]\n",
    "        county_name = counties.iloc[i, 3]\n",
    "        insert_query = f\"\"\"\n",
    "            INSERT INTO county(zip, county_name, county_weight, county_fips)\n",
    "            VALUES({zip_code}, '{county_name.replace(\"'\", \"''\")}', {weight}, {fips})\n",
    "        \"\"\"\n",
    "        cursor.execute(insert_query)\n",
    "insert_values_county()"
   ]
  },
  {
   "cell_type": "markdown",
   "metadata": {},
   "source": [
    "# So the database is created, I have following relations\n",
    "## cities = S(CityId(Primary Key), city_name, state_id, state_name, population(pop), density)\n",
    "Here I chose to create CityId as a primary key for each city, as one city has more than one zip code associated with it, so spearating it will be one of the steps to satisfy 3rd Normalized form of the database\n",
    "## county = S(County_id(Primary Key), zip(Foreign key refrencing to zips), county_name, county_weight, county_fips)\n",
    "Here again I separated counties for a dataset for one reason to keep notmalised form, and second reason to distribute weights of fips into each zip. In json structure I had key of fips and weight, which represent the division of authority of each fip. So for each key value pair I createdseparate row in this table, with zip id solving the normalisation issue and giving optimal solution\n",
    "## zips = S(zip(Primary Key), latitude, longitude, city_id)\n",
    "Here I put zip code as primary key, as It's unique in my structure. I have city_id as foregin key conecting to cities table.\n",
    "\n",
    "### It's much more optimal structure to keep this data. It gives much convenient mechanisms to access data with less memory and time complexity. Domains for each structure are specified in queries above"
   ]
  },
  {
   "cell_type": "code",
   "execution_count": null,
   "metadata": {},
   "outputs": [],
   "source": [
    "problem_3_a_query = f\"\"\"\n",
    "    SELECT z.zip, c.state_name, c.city_name\n",
    "    FROM zip z\n",
    "        INNER JOIN cities c\n",
    "            ON z.city_id = c.city_id\n",
    "    WHERE c.city_name  LIKE 'Honolulu' OR c.state_name LIKE 'Hawaii'\n",
    "    \"\"\"\n",
    "cursor = connection.cursor()\n",
    "cursor.execute(problem_3_a_query)"
   ]
  },
  {
   "cell_type": "code",
   "execution_count": 89,
   "metadata": {},
   "outputs": [],
   "source": [
    "problem_3_b_query = f\"\"\"\n",
    "    SELECT DISTINCT state_name\n",
    "    FROM cities\n",
    "    \"\"\"\n",
    "cursor = connection.cursor()\n",
    "cursor.execute(problem_3_b_query)"
   ]
  },
  {
   "cell_type": "code",
   "execution_count": 90,
   "metadata": {},
   "outputs": [],
   "source": [
    "problem_3_c_query = f\"\"\"\n",
    "    SELECT zip, c.state_name, c2.county_name\n",
    "    FROM zip z\n",
    "        INNER JOIN cities c on z.city_id = c.city_id\n",
    "        INNER JOIN county c2 on z.zip = c2.zip\n",
    "    WHERE c.density > 300\n",
    "      AND c.pop> 31234\n",
    "    \"\"\"\n",
    "cursor = connection.cursor()\n",
    "cursor.execute(problem_3_b_query)"
   ]
  },
  {
   "cell_type": "code",
   "execution_count": null,
   "metadata": {},
   "outputs": [],
   "source": []
  }
 ],
 "metadata": {
  "kernelspec": {
   "display_name": "Python 3 (ipykernel)",
   "language": "python",
   "name": "python3"
  },
  "language_info": {
   "codemirror_mode": {
    "name": "ipython",
    "version": 3
   },
   "file_extension": ".py",
   "mimetype": "text/x-python",
   "name": "python",
   "nbconvert_exporter": "python",
   "pygments_lexer": "ipython3",
   "version": "3.11.0"
  }
 },
 "nbformat": 4,
 "nbformat_minor": 1
}
